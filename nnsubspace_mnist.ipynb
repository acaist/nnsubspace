{
 "cells": [
  {
   "cell_type": "markdown",
   "metadata": {},
   "source": [
    "**This notebook compute the active subspace of the Neural Network trained on MNIST dataset.**"
   ]
  },
  {
   "cell_type": "code",
   "execution_count": 1,
   "metadata": {},
   "outputs": [
    {
     "name": "stderr",
     "output_type": "stream",
     "text": [
      "Using TensorFlow backend.\n"
     ]
    }
   ],
   "source": [
    "# -*- coding: utf-8 -*-\n",
    "\n",
    "# Copyright 2019 Weiqi Ji\n",
    "\n",
    "from __future__ import absolute_import\n",
    "from __future__ import division\n",
    "from __future__ import print_function\n",
    "\n",
    "import numpy as np\n",
    "\n",
    "import nnsubspace.visual.subspaceplot as subspaceplot\n",
    "from nnsubspace.nndataset.dataset import Dataset\n",
    "from nnsubspace.nnmodel.model import NNModel\n",
    "from nnsubspace.nnsubspace.subspace import NNSubspace"
   ]
  },
  {
   "cell_type": "code",
   "execution_count": 2,
   "metadata": {},
   "outputs": [
    {
     "name": "stdout",
     "output_type": "stream",
     "text": [
      "x_train shape: (60000, 28, 28, 1)\n",
      "60000 train samples\n",
      "10000 test samples\n",
      "WARNING:tensorflow:From C:\\Anaconda3\\envs\\tf-gpu\\lib\\site-packages\\tensorflow\\python\\framework\\op_def_library.py:263: colocate_with (from tensorflow.python.framework.ops) is deprecated and will be removed in a future version.\n",
      "Instructions for updating:\n",
      "Colocations handled automatically by placer.\n",
      "WARNING:tensorflow:From C:\\Anaconda3\\envs\\tf-gpu\\lib\\site-packages\\keras\\backend\\tensorflow_backend.py:3445: calling dropout (from tensorflow.python.ops.nn_ops) with keep_prob is deprecated and will be removed in a future version.\n",
      "Instructions for updating:\n",
      "Please use `rate` instead of `keep_prob`. Rate should be set to `rate = 1 - keep_prob`.\n",
      "WARNING:tensorflow:From C:\\Anaconda3\\envs\\tf-gpu\\lib\\site-packages\\tensorflow\\python\\ops\\math_ops.py:3066: to_int32 (from tensorflow.python.ops.math_ops) is deprecated and will be removed in a future version.\n",
      "Instructions for updating:\n",
      "Use tf.cast instead.\n"
     ]
    }
   ],
   "source": [
    "# The package supports mnist/cifar10/cifar100, you can also add other datasets to the package\n",
    "dataset_name = 'mnist'\n",
    "\n",
    "dataset = Dataset(dataset_name=dataset_name)\n",
    "model = NNModel(dataset_name=dataset_name, model_id='0')"
   ]
  },
  {
   "cell_type": "markdown",
   "metadata": {},
   "source": [
    "**Test single sample**"
   ]
  },
  {
   "cell_type": "code",
   "execution_count": 5,
   "metadata": {
    "scrolled": false
   },
   "outputs": [
    {
     "name": "stdout",
     "output_type": "stream",
     "text": [
      "sample 259 | model prediction | ground truth\n",
      "label: 6, score: 0.69\n",
      "label: 6, score: 1.00\n"
     ]
    },
    {
     "data": {
      "image/png": "[encoded data removed]",
      "text/plain": [
       "<Figure size 144x144 with 1 Axes>"
      ]
     },
     "metadata": {
      "needs_background": "light"
     },
     "output_type": "display_data"
    },
    {
     "name": "stdout",
     "output_type": "stream",
     "text": [
      "@sampling...\n"
     ]
    },
    {
     "data": {
      "application/vnd.jupyter.widget-view+json": {
       "model_id": "6818a17ba5624dc49487f700bbff7b3f",
       "version_major": 2,
       "version_minor": 0
      },
      "text/plain": [
       "HBox(children=(IntProgress(value=0, max=784), HTML(value='')))"
      ]
     },
     "metadata": {},
     "output_type": "display_data"
    },
    {
     "name": "stdout",
     "output_type": "stream",
     "text": [
      "\n",
      "Time elapsed (hh:mm:ss.ms) 0:00:00.827444\n",
      "@evaluate_gradient\n"
     ]
    },
    {
     "data": {
      "application/vnd.jupyter.widget-view+json": {
       "model_id": "22dd3870b5a8462c9f5a8592d6d635c8",
       "version_major": 2,
       "version_minor": 0
      },
      "text/plain": [
       "HBox(children=(IntProgress(value=1, bar_style='info', max=1), HTML(value='')))"
      ]
     },
     "metadata": {},
     "output_type": "display_data"
    },
    {
     "name": "stdout",
     "output_type": "stream",
     "text": [
      "\n",
      "Time elapsed (hh:mm:ss.ms) 0:00:02.924939\n",
      "@evaluate_sample\n",
      "5000/5000 [==============================] - ETA:  - ETA:  - ETA:  - ETA:  - ETA:  - ETA:  - ETA:  - 0s 70us/step\n",
      "@svd\n"
     ]
    },
    {
     "data": {
      "image/png": "[encoded data removed]",
      "text/plain": [
       "<Figure size 360x360 with 1 Axes>"
      ]
     },
     "metadata": {
      "needs_background": "light"
     },
     "output_type": "display_data"
    },
    {
     "data": {
      "image/png": "[encoded data removed]",
      "text/plain": [
       "<Figure size 360x360 with 1 Axes>"
      ]
     },
     "metadata": {
      "needs_background": "light"
     },
     "output_type": "display_data"
    }
   ],
   "source": [
    "i_sample = 259\n",
    "x = dataset.x_test[i_sample]\n",
    "x = np.expand_dims(x, axis=0)\n",
    "y = model.model.predict(x)\n",
    "print('sample {} | model prediction | ground truth'.format(i_sample))\n",
    "dataset.decode_predictions(y)\n",
    "dataset.decode_predictions(dataset.y_test[i_sample])\n",
    "\n",
    "subspaceplot.imshow(np.squeeze(x + dataset.x_train_mean), figsize=(2, 2))\n",
    "\n",
    "AS = NNSubspace(model=model.model, x=x, x_train_mean=dataset.x_train_mean)\n",
    "\n",
    "AS.sampling_setup(num_gradient_mc=500,\n",
    "                 num_rs_mc=5000,\n",
    "                 seed=7,\n",
    "                 bool_clip=True,\n",
    "                 sigma=10 / 255,\n",
    "                 num_eigenvalue=20)\n",
    "AS.run()"
   ]
  },
  {
   "cell_type": "code",
   "execution_count": 4,
   "metadata": {},
   "outputs": [
    {
     "data": {
      "text/plain": [
       "0.0"
      ]
     },
     "execution_count": 4,
     "metadata": {},
     "output_type": "execute_result"
    }
   ],
   "source": [
    "AS.x_train_mean.max()"
   ]
  },
  {
   "cell_type": "markdown",
   "metadata": {},
   "source": [
    "for i_sample, x in enumerate(dataset.x_test[0:5000]):\n",
    "    x = np.expand_dims(x, axis=0)\n",
    "    y = model.model.predict(x)\n",
    "    if y.max() < 0.7:\n",
    "        print('sample {}'.format(i_sample))\n",
    "        dataset.decode_predictions(y)\n",
    "        dataset.decode_predictions(dataset.y_test[i_sample])\n",
    "\n",
    "        subspaceplot.imshow(np.squeeze(x + dataset.x_train_mean),\n",
    "                            figsize=(2, 2))\n",
    "\n",
    "        AS = NNSubspace(model=model.model,\n",
    "                        x=x,\n",
    "                        x_train_mean=dataset.x_train_mean)\n",
    "\n",
    "        AS.sampling_setup(num_gradient_mc=600,\n",
    "                          num_rs_mc=600,\n",
    "                          seed=7,\n",
    "                          bool_clip=True,\n",
    "                          sigma=2 / 255,\n",
    "                          num_eigenvalue=20)\n",
    "        AS.run()"
   ]
  }
 ],
 "metadata": {
  "kernelspec": {
   "display_name": "Python 3",
   "language": "python",
   "name": "python3"
  },
  "language_info": {
   "codemirror_mode": {
    "name": "ipython",
    "version": 3
   },
   "file_extension": ".py",
   "mimetype": "text/x-python",
   "name": "python",
   "nbconvert_exporter": "python",
   "pygments_lexer": "ipython3",
   "version": "3.7.3"
  }
 },
 "nbformat": 4,
 "nbformat_minor": 2
}
